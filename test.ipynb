{
 "cells": [
  {
   "cell_type": "code",
   "execution_count": 1,
   "metadata": {},
   "outputs": [],
   "source": [
    "import requests\n",
    "import random\n",
    "import json"
   ]
  },
  {
   "cell_type": "code",
   "execution_count": 13,
   "metadata": {},
   "outputs": [],
   "source": [
    "url = 'http://localhost:3000/api/data/create'  # Cambia esto a la URL de tu API\n",
    "\n",
    "# Definir el módulo\n",
    "base_data = {\n",
    "    \"module\": \"Invernadero\",\n",
    "    \"data\": {\n",
    "        \"device\": \"671906e10f23ffb984d43b04\",\n",
    "        \"Sensores\": []\n",
    "    }\n",
    "}"
   ]
  },
  {
   "cell_type": "code",
   "execution_count": 15,
   "metadata": {},
   "outputs": [
    {
     "name": "stdout",
     "output_type": "stream",
     "text": [
      "Status Code: 201\n",
      "Response Body: {\"device\":\"671906e10f23ffb984d43b04\",\"Sensores\":[{\"sensor\":\"temp\",\"pot\":3,\"volt\":110,\"amp\":1.98},{\"sensor\":\"humidity\",\"pot\":9,\"volt\":220,\"amp\":1.11},{\"sensor\":\"temp\",\"pot\":3,\"volt\":220,\"amp\":0.9},{\"sensor\":\"humidity\",\"pot\":6,\"volt\":220,\"amp\":1.19},{\"sensor\":\"temp\",\"pot\":9,\"volt\":220,\"amp\":1.44},{\"sensor\":\"humidity\",\"pot\":7,\"volt\":220,\"amp\":1.96},{\"sensor\":\"temp\",\"pot\":6,\"volt\":110,\"amp\":1.33},{\"sensor\":\"humidity\",\"pot\":3,\"volt\":110,\"amp\":0.63},{\"sensor\":\"temp\",\"pot\":6,\"volt\":220,\"amp\":0.81},{\"sensor\":\"humidity\",\"pot\":6,\"volt\":110,\"amp\":1.23},{\"sensor\":\"temp\",\"pot\":4,\"volt\":110,\"amp\":1.89},{\"sensor\":\"humidity\",\"pot\":1,\"volt\":220,\"amp\":0.72}],\"_id\":\"672130fdeae1d8bb28366553\",\"createdAt\":\"2024-10-29T19:01:17.007Z\",\"updatedAt\":\"2024-10-29T19:01:17.007Z\",\"__v\":0}\n",
      "Data sent: {\n",
      "    \"module\": \"Invernadero\",\n",
      "    \"data\": {\n",
      "        \"device\": \"671906e10f23ffb984d43b04\",\n",
      "        \"Sensores\": []\n",
      "    }\n",
      "}\n",
      "--------------------------------------------------\n",
      "Status Code: 201\n",
      "Response Body: {\"device\":\"671906e10f23ffb984d43b04\",\"Sensores\":[{\"sensor\":\"temp\",\"pot\":1,\"volt\":110,\"amp\":0.8},{\"sensor\":\"humidity\",\"pot\":7,\"volt\":220,\"amp\":1.33}],\"_id\":\"672130fdeae1d8bb28366555\",\"createdAt\":\"2024-10-29T19:01:17.033Z\",\"updatedAt\":\"2024-10-29T19:01:17.033Z\",\"__v\":0}\n",
      "Data sent: {\n",
      "    \"module\": \"Invernadero\",\n",
      "    \"data\": {\n",
      "        \"device\": \"671906e10f23ffb984d43b04\",\n",
      "        \"Sensores\": []\n",
      "    }\n",
      "}\n",
      "--------------------------------------------------\n",
      "Status Code: 201\n",
      "Response Body: {\"device\":\"671906e10f23ffb984d43b04\",\"Sensores\":[{\"sensor\":\"temp\",\"pot\":10,\"volt\":220,\"amp\":1.19},{\"sensor\":\"humidity\",\"pot\":3,\"volt\":110,\"amp\":1.59}],\"_id\":\"672130fdeae1d8bb28366557\",\"createdAt\":\"2024-10-29T19:01:17.041Z\",\"updatedAt\":\"2024-10-29T19:01:17.041Z\",\"__v\":0}\n",
      "Data sent: {\n",
      "    \"module\": \"Invernadero\",\n",
      "    \"data\": {\n",
      "        \"device\": \"671906e10f23ffb984d43b04\",\n",
      "        \"Sensores\": []\n",
      "    }\n",
      "}\n",
      "--------------------------------------------------\n",
      "Status Code: 201\n",
      "Response Body: {\"device\":\"671906e10f23ffb984d43b04\",\"Sensores\":[{\"sensor\":\"temp\",\"pot\":4,\"volt\":220,\"amp\":1.3},{\"sensor\":\"humidity\",\"pot\":5,\"volt\":220,\"amp\":0.61}],\"_id\":\"672130fdeae1d8bb28366559\",\"createdAt\":\"2024-10-29T19:01:17.048Z\",\"updatedAt\":\"2024-10-29T19:01:17.048Z\",\"__v\":0}\n",
      "Data sent: {\n",
      "    \"module\": \"Invernadero\",\n",
      "    \"data\": {\n",
      "        \"device\": \"671906e10f23ffb984d43b04\",\n",
      "        \"Sensores\": []\n",
      "    }\n",
      "}\n",
      "--------------------------------------------------\n",
      "Status Code: 201\n",
      "Response Body: {\"device\":\"671906e10f23ffb984d43b04\",\"Sensores\":[{\"sensor\":\"temp\",\"pot\":9,\"volt\":220,\"amp\":1.37},{\"sensor\":\"humidity\",\"pot\":7,\"volt\":220,\"amp\":0.91}],\"_id\":\"672130fdeae1d8bb2836655b\",\"createdAt\":\"2024-10-29T19:01:17.055Z\",\"updatedAt\":\"2024-10-29T19:01:17.055Z\",\"__v\":0}\n",
      "Data sent: {\n",
      "    \"module\": \"Invernadero\",\n",
      "    \"data\": {\n",
      "        \"device\": \"671906e10f23ffb984d43b04\",\n",
      "        \"Sensores\": []\n",
      "    }\n",
      "}\n",
      "--------------------------------------------------\n"
     ]
    }
   ],
   "source": [
    "for i in range(5):  # Cambia el rango según cuántas simulaciones quieras hacer\n",
    "    # Reiniciar los sensores para cada iteración\n",
    "    data = base_data.copy()  # Copiar la estructura base para cada simulación\n",
    "\n",
    "    temp_sensor = {\n",
    "        \"sensor\": \"temp\",\n",
    "        \"pot\": random.randint(1, 10),  # Genera un valor aleatorio para pot\n",
    "        \"volt\": random.choice([110, 220]),  # Elige entre 110 y 220\n",
    "        \"amp\": round(random.uniform(0.5, 2.0), 2)  # Genera un valor aleatorio para amp\n",
    "    }\n",
    "    \n",
    "    humidity_sensor = {\n",
    "        \"sensor\": \"humidity\",\n",
    "        \"pot\": random.randint(1, 10),  # Genera un valor aleatorio para pot\n",
    "        \"volt\": random.choice([110, 220]),  # Elige entre 110 y 220\n",
    "        \"amp\": round(random.uniform(0.5, 2.0), 2)  # Genera un valor aleatorio para amp\n",
    "    }\n",
    "    \n",
    "    # Añadir los sensores al array de Sensores\n",
    "    data['data']['Sensores'].append(temp_sensor)\n",
    "    data['data']['Sensores'].append(humidity_sensor)\n",
    "\n",
    "    # Enviar la solicitud POST\n",
    "    response = requests.post(url, json=data)\n",
    "    # Limpiar el array de Sensores para la siguiente iteración\n",
    "    data['data']['Sensores'].clear()\n",
    "    # Imprimir la respuesta del servidor\n",
    "    print(\"Status Code:\", response.status_code)\n",
    "    print(\"Response Body:\", response.text)\n",
    "    print(\"Data sent:\", json.dumps(data, indent=4))\n",
    "    print(\"--------------------------------------------------\")"
   ]
  },
  {
   "cell_type": "code",
   "execution_count": null,
   "metadata": {},
   "outputs": [],
   "source": []
  }
 ],
 "metadata": {
  "kernelspec": {
   "display_name": "test",
   "language": "python",
   "name": "python3"
  },
  "language_info": {
   "codemirror_mode": {
    "name": "ipython",
    "version": 3
   },
   "file_extension": ".py",
   "mimetype": "text/x-python",
   "name": "python",
   "nbconvert_exporter": "python",
   "pygments_lexer": "ipython3",
   "version": "3.8.19"
  }
 },
 "nbformat": 4,
 "nbformat_minor": 2
}
